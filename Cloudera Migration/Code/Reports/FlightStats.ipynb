{
 "cells": [
  {
   "cell_type": "code",
   "execution_count": null,
   "metadata": {
    "scrolled": true
   },
   "outputs": [],
   "source": [
    "import plotly.express as px"
   ]
  },
  {
   "cell_type": "code",
   "execution_count": null,
   "metadata": {},
   "outputs": [],
   "source": [
    "routesdf = sqlContext.sql(\"\\\n",
    "    SELECT a.airport as origin, b.airport as destination, count(*) AS numroutes \\\n",
    "    FROM flightinfo f JOIN airportdata a \\\n",
    "    ON f.origin = a.iata JOIN airportdata b \\\n",
    "    ON f.dest = b.iata \\\n",
    "    GROUP BY a.airport, b.airport \\\n",
    "    ORDER BY numroutes DESC\");\n",
    "\n",
    "routesdf.show(truncate = False)"
   ]
  },
  {
   "cell_type": "code",
   "execution_count": null,
   "metadata": {},
   "outputs": [],
   "source": [
    "airlinedf = sqlContext.sql(\"\\\n",
    "    SELECT f.carrier, count(*) AS numflights \\\n",
    "    FROM flightinfo f \\\n",
    "    GROUP BY f.carrier \\\n",
    "    ORDER BY numflights DESC\");\n",
    "\n",
    "airlinedf.show(truncate = False)"
   ]
  },
  {
   "cell_type": "code",
   "execution_count": null,
   "metadata": {},
   "outputs": [],
   "source": [
    "pandasdf = airlinedf.toPandas()\n",
    "barchart = px.bar(pandasdf, x='carrier', y='numflights')\n",
    "barchart.show()"
   ]
  },
  {
   "cell_type": "code",
   "execution_count": null,
   "metadata": {},
   "outputs": [],
   "source": [
    "depdelaysdf = sqlContext.sql(\"\\\n",
    "    SELECT a.airport, f.depdelay \\\n",
    "    FROM flightinfo f JOIN airportdata a \\\n",
    "    ON f.origin = a.iata \\\n",
    "    ORDER BY f.depdelay DESC\");\n",
    "\n",
    "depdelaysdf.show(truncate = False)"
   ]
  },
  {
   "cell_type": "code",
   "execution_count": null,
   "metadata": {},
   "outputs": [],
   "source": [
    "pandasdf = depdelaysdf.toPandas()\n",
    "barchart = px.bar(pandasdf, x='airport', y='depdelay')\n",
    "barchart.show()"
   ]
  },
  {
   "cell_type": "code",
   "execution_count": null,
   "metadata": {},
   "outputs": [],
   "source": [
    "arrdelaysdf = sqlContext.sql(\"\\\n",
    "    SELECT a.airport, f.arrdelay \\\n",
    "    FROM flightinfo f JOIN airportdata a \\\n",
    "    ON f.dest = a.iata \\\n",
    "    ORDER BY f.arrdelay DESC\");\n",
    "\n",
    "arrdelaysdf.show(truncate = False)"
   ]
  },
  {
   "cell_type": "code",
   "execution_count": null,
   "metadata": {},
   "outputs": [],
   "source": [
    "pandasdf = arrdelaysdf.toPandas()\n",
    "barchart = px.bar(pandasdf, x='airport', y='arrdelay')\n",
    "barchart.show()"
   ]
  }
 ],
 "metadata": {
  "kernelspec": {
   "display_name": "Python 3",
   "language": "python",
   "name": "python3"
  },
  "language_info": {
   "codemirror_mode": {
    "name": "ipython",
    "version": 3
   },
   "file_extension": ".py",
   "mimetype": "text/x-python",
   "name": "python",
   "nbconvert_exporter": "python",
   "pygments_lexer": "ipython3",
   "version": "3.6.3"
  }
 },
 "nbformat": 4,
 "nbformat_minor": 4
}
