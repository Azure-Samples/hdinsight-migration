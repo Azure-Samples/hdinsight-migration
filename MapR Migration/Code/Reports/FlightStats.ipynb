{
 "cells": [
  {
   "cell_type": "code",
   "execution_count": null,
   "metadata": {
    "cell_status": {
     "execute_time": {
      "duration": 33.2900390625,
      "end_time": 1605710489356.508
     }
    },
    "scrolled": true
   },
   "outputs": [],
   "source": [
    "import matplotlib.pyplot as plt"
   ]
  },
  {
   "cell_type": "code",
   "execution_count": null,
   "metadata": {
    "cell_status": {
     "execute_time": {
      "duration": 13592.921142578125,
      "end_time": 1605710502959.653
     }
    }
   },
   "outputs": [],
   "source": [
    "routesdf = sqlContext.sql(\"\\\n",
    "    SELECT a.airport as origin, b.airport as destination, count(*) AS numroutes \\\n",
    "    FROM flightinfo f JOIN airportdata a \\\n",
    "    ON f.origin = a.iata JOIN airportdata b \\\n",
    "    ON f.dest = b.iata \\\n",
    "    GROUP BY a.airport, b.airport \\\n",
    "    ORDER BY numroutes DESC \\\n",
    "    LIMIT 20\");\n",
    "\n",
    "routesdf.show(truncate = False)"
   ]
  },
  {
   "cell_type": "code",
   "execution_count": null,
   "metadata": {
    "cell_status": {
     "execute_time": {
      "duration": 2296.22509765625,
      "end_time": 1605710505266.148
     }
    }
   },
   "outputs": [],
   "source": [
    "airlinedf = sqlContext.sql(\"\\\n",
    "    SELECT f.carrier, count(*) AS numflights \\\n",
    "    FROM flightinfo f \\\n",
    "    GROUP BY f.carrier \\\n",
    "    ORDER BY numflights DESC \\\n",
    "    LIMIT 20\");\n",
    "\n",
    "airlinedf.show(truncate = False)"
   ]
  },
  {
   "cell_type": "code",
   "execution_count": null,
   "metadata": {
    "cell_status": {
     "execute_time": {
      "duration": 3293.761962890625,
      "end_time": 1605710508583.335
     }
    }
   },
   "outputs": [],
   "source": [
    "pandasdf = airlinedf.toPandas()\n",
    "pandasdf.plot(kind='bar', x='carrier', y='numflights')\n",
    "plt.grid(which='major', linestyle='-', linewidth='0.5', color='green')\n",
    "plt.show()"
   ]
  },
  {
   "cell_type": "code",
   "execution_count": null,
   "metadata": {
    "cell_status": {
     "execute_time": {
      "duration": 1251.822021484375,
      "end_time": 1605710509847.127
     }
    }
   },
   "outputs": [],
   "source": [
    "depdelaysdf = sqlContext.sql(\"\\\n",
    "    SELECT a.airport, f.depdelay \\\n",
    "    FROM flightinfo f JOIN airportdata a \\\n",
    "    ON f.origin = a.iata \\\n",
    "    ORDER BY f.depdelay DESC \\\n",
    "    LIMIT 20\");\n",
    "\n",
    "depdelaysdf.show(truncate = False)"
   ]
  },
  {
   "cell_type": "code",
   "execution_count": null,
   "metadata": {
    "cell_status": {
     "execute_time": {
      "duration": 1280.56787109375,
      "end_time": 1605710511156.716
     }
    }
   },
   "outputs": [],
   "source": [
    "pandasdf = depdelaysdf.toPandas()\n",
    "pandasdf.plot(kind='bar', x='airport', y='depdelay')\n",
    "plt.grid(which='major', linestyle='-', linewidth='0.5', color='green')\n",
    "plt.show()"
   ]
  },
  {
   "cell_type": "code",
   "execution_count": null,
   "metadata": {
    "cell_status": {
     "execute_time": {
      "duration": 753.89404296875,
      "end_time": 1605710511921.051
     }
    }
   },
   "outputs": [],
   "source": [
    "arrdelaysdf = sqlContext.sql(\"\\\n",
    "    SELECT a.airport, f.arrdelay \\\n",
    "    FROM flightinfo f JOIN airportdata a \\\n",
    "    ON f.dest = a.iata \\\n",
    "    ORDER BY f.arrdelay DESC \\\n",
    "    LIMIT 20\");\n",
    "\n",
    "arrdelaysdf.show(truncate = False)"
   ]
  },
  {
   "cell_type": "code",
   "execution_count": null,
   "metadata": {
    "cell_status": {
     "execute_time": {
      "duration": 1284.885986328125,
      "end_time": 1605710513228.762
     }
    }
   },
   "outputs": [],
   "source": [
    "pandasdf = arrdelaysdf.toPandas()\n",
    "pandasdf.plot(kind='bar', x='airport', y='arrdelay')\n",
    "plt.grid(which='major', linestyle='-', linewidth='0.5', color='green')\n",
    "plt.show()"
   ]
  },
  {
   "cell_type": "code",
   "execution_count": null,
   "metadata": {},
   "outputs": [],
   "source": []
  }
 ],
 "metadata": {
  "kernelspec": {
   "display_name": "Python 3",
   "language": "python",
   "name": "python3"
  },
  "language_info": {
   "codemirror_mode": {
    "name": "ipython",
    "version": 3
   },
   "file_extension": ".py",
   "mimetype": "text/x-python",
   "name": "python",
   "nbconvert_exporter": "python",
   "pygments_lexer": "ipython3",
   "version": "3.6.3"
  }
 },
 "nbformat": 4,
 "nbformat_minor": 4
}
